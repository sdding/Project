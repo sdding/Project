{
  "nbformat": 4,
  "nbformat_minor": 0,
  "metadata": {
    "colab": {
      "name": "Project4.ipynb",
      "provenance": [],
      "collapsed_sections": []
    },
    "kernelspec": {
      "name": "python3",
      "display_name": "Python 3"
    },
    "language_info": {
      "name": "python"
    }
  },
  "cells": [
    {
      "cell_type": "markdown",
      "metadata": {
        "id": "TIqnfovKjJJZ"
      },
      "source": [
        "# Rotten Tomatoes movies and critic reviews\n",
        "## 영화 리뷰의 자주 나온 키워드를 통해서 평점을 예측\n",
        "\n",
        "* 가설 : 평점이 좋은 영화엔 특정 키워드가 자주 나올 것이고 그것을 토대로 평점이 예측 가능할 것이다\n"
      ]
    },
    {
      "cell_type": "code",
      "metadata": {
        "id": "vK8WzrC5jjLE"
      },
      "source": [
        "import pandas as pd\n",
        "df1 = pd.read_csv(\"/content/rotten_tomatoes_movies.csv\", encoding = 'unicode_escape')\n",
        "df2 = pd.read_csv(\"/content/rotten_tomatoes_critic_reviews.csv\", encoding = 'unicode_escape')"
      ],
      "execution_count": 1,
      "outputs": []
    },
    {
      "cell_type": "code",
      "metadata": {
        "id": "nX1vP6p0kNvP",
        "colab": {
          "base_uri": "https://localhost:8080/",
          "height": 711
        },
        "outputId": "6b8edb93-87c9-4b1d-e7d5-4add4d629a9c"
      },
      "source": [
        "print(df1.shape)\n",
        "df1.head()"
      ],
      "execution_count": 2,
      "outputs": [
        {
          "output_type": "stream",
          "name": "stdout",
          "text": [
            "(17712, 22)\n"
          ]
        },
        {
          "output_type": "execute_result",
          "data": {
            "text/html": [
              "<div>\n",
              "<style scoped>\n",
              "    .dataframe tbody tr th:only-of-type {\n",
              "        vertical-align: middle;\n",
              "    }\n",
              "\n",
              "    .dataframe tbody tr th {\n",
              "        vertical-align: top;\n",
              "    }\n",
              "\n",
              "    .dataframe thead th {\n",
              "        text-align: right;\n",
              "    }\n",
              "</style>\n",
              "<table border=\"1\" class=\"dataframe\">\n",
              "  <thead>\n",
              "    <tr style=\"text-align: right;\">\n",
              "      <th></th>\n",
              "      <th>rotten_tomatoes_link</th>\n",
              "      <th>movie_title</th>\n",
              "      <th>movie_info</th>\n",
              "      <th>critics_consensus</th>\n",
              "      <th>content_rating</th>\n",
              "      <th>genres</th>\n",
              "      <th>directors</th>\n",
              "      <th>authors</th>\n",
              "      <th>actors</th>\n",
              "      <th>original_release_date</th>\n",
              "      <th>streaming_release_date</th>\n",
              "      <th>runtime</th>\n",
              "      <th>production_company</th>\n",
              "      <th>tomatometer_status</th>\n",
              "      <th>tomatometer_rating</th>\n",
              "      <th>tomatometer_count</th>\n",
              "      <th>audience_status</th>\n",
              "      <th>audience_rating</th>\n",
              "      <th>audience_count</th>\n",
              "      <th>tomatometer_top_critics_count</th>\n",
              "      <th>tomatometer_fresh_critics_count</th>\n",
              "      <th>tomatometer_rotten_critics_count</th>\n",
              "    </tr>\n",
              "  </thead>\n",
              "  <tbody>\n",
              "    <tr>\n",
              "      <th>0</th>\n",
              "      <td>m/0814255</td>\n",
              "      <td>Percy Jackson &amp; the Olympians: The Lightning T...</td>\n",
              "      <td>Always trouble-prone, the life of teenager Per...</td>\n",
              "      <td>Though it may seem like just another Harry Pot...</td>\n",
              "      <td>PG</td>\n",
              "      <td>Action &amp; Adventure, Comedy, Drama, Science Fic...</td>\n",
              "      <td>Chris Columbus</td>\n",
              "      <td>Craig Titley, Chris Columbus, Rick Riordan</td>\n",
              "      <td>Logan Lerman, Brandon T. Jackson, Alexandra Da...</td>\n",
              "      <td>2010-02-12</td>\n",
              "      <td>2015-11-25</td>\n",
              "      <td>119.0</td>\n",
              "      <td>20th Century Fox</td>\n",
              "      <td>Rotten</td>\n",
              "      <td>49.0</td>\n",
              "      <td>149.0</td>\n",
              "      <td>Spilled</td>\n",
              "      <td>53.0</td>\n",
              "      <td>254421.0</td>\n",
              "      <td>43</td>\n",
              "      <td>73</td>\n",
              "      <td>76</td>\n",
              "    </tr>\n",
              "    <tr>\n",
              "      <th>1</th>\n",
              "      <td>m/0878835</td>\n",
              "      <td>Please Give</td>\n",
              "      <td>Kate (Catherine Keener) and her husband Alex (...</td>\n",
              "      <td>Nicole Holofcener's newest might seem slight i...</td>\n",
              "      <td>R</td>\n",
              "      <td>Comedy</td>\n",
              "      <td>Nicole Holofcener</td>\n",
              "      <td>Nicole Holofcener</td>\n",
              "      <td>Catherine Keener, Amanda Peet, Oliver Platt, R...</td>\n",
              "      <td>2010-04-30</td>\n",
              "      <td>2012-09-04</td>\n",
              "      <td>90.0</td>\n",
              "      <td>Sony Pictures Classics</td>\n",
              "      <td>Certified-Fresh</td>\n",
              "      <td>87.0</td>\n",
              "      <td>142.0</td>\n",
              "      <td>Upright</td>\n",
              "      <td>64.0</td>\n",
              "      <td>11574.0</td>\n",
              "      <td>44</td>\n",
              "      <td>123</td>\n",
              "      <td>19</td>\n",
              "    </tr>\n",
              "    <tr>\n",
              "      <th>2</th>\n",
              "      <td>m/10</td>\n",
              "      <td>10</td>\n",
              "      <td>A successful, middle-aged Hollywood songwriter...</td>\n",
              "      <td>Blake Edwards' bawdy comedy may not score a pe...</td>\n",
              "      <td>R</td>\n",
              "      <td>Comedy, Romance</td>\n",
              "      <td>Blake Edwards</td>\n",
              "      <td>Blake Edwards</td>\n",
              "      <td>Dudley Moore, Bo Derek, Julie Andrews, Robert ...</td>\n",
              "      <td>1979-10-05</td>\n",
              "      <td>2014-07-24</td>\n",
              "      <td>122.0</td>\n",
              "      <td>Waner Bros.</td>\n",
              "      <td>Fresh</td>\n",
              "      <td>67.0</td>\n",
              "      <td>24.0</td>\n",
              "      <td>Spilled</td>\n",
              "      <td>53.0</td>\n",
              "      <td>14684.0</td>\n",
              "      <td>2</td>\n",
              "      <td>16</td>\n",
              "      <td>8</td>\n",
              "    </tr>\n",
              "    <tr>\n",
              "      <th>3</th>\n",
              "      <td>m/1000013-12_angry_men</td>\n",
              "      <td>12 Angry Men (Twelve Angry Men)</td>\n",
              "      <td>Following the closing arguments in a murder tr...</td>\n",
              "      <td>Sidney Lumet's feature debut is a superbly wri...</td>\n",
              "      <td>NR</td>\n",
              "      <td>Classics, Drama</td>\n",
              "      <td>Sidney Lumet</td>\n",
              "      <td>Reginald Rose</td>\n",
              "      <td>Martin Balsam, John Fiedler, Lee J. Cobb, E.G....</td>\n",
              "      <td>1957-04-13</td>\n",
              "      <td>2017-01-13</td>\n",
              "      <td>95.0</td>\n",
              "      <td>Criterion Collection</td>\n",
              "      <td>Certified-Fresh</td>\n",
              "      <td>100.0</td>\n",
              "      <td>54.0</td>\n",
              "      <td>Upright</td>\n",
              "      <td>97.0</td>\n",
              "      <td>105386.0</td>\n",
              "      <td>6</td>\n",
              "      <td>54</td>\n",
              "      <td>0</td>\n",
              "    </tr>\n",
              "    <tr>\n",
              "      <th>4</th>\n",
              "      <td>m/1000079-20000_leagues_under_the_sea</td>\n",
              "      <td>20,000 Leagues Under The Sea</td>\n",
              "      <td>In 1866, Professor Pierre M. Aronnax (Paul Luk...</td>\n",
              "      <td>One of Disney's finest live-action adventures,...</td>\n",
              "      <td>G</td>\n",
              "      <td>Action &amp; Adventure, Drama, Kids &amp; Family</td>\n",
              "      <td>Richard Fleischer</td>\n",
              "      <td>Earl Felton</td>\n",
              "      <td>James Mason, Kirk Douglas, Paul Lukas, Peter L...</td>\n",
              "      <td>1954-01-01</td>\n",
              "      <td>2016-06-10</td>\n",
              "      <td>127.0</td>\n",
              "      <td>Disney</td>\n",
              "      <td>Fresh</td>\n",
              "      <td>89.0</td>\n",
              "      <td>27.0</td>\n",
              "      <td>Upright</td>\n",
              "      <td>74.0</td>\n",
              "      <td>68918.0</td>\n",
              "      <td>5</td>\n",
              "      <td>24</td>\n",
              "      <td>3</td>\n",
              "    </tr>\n",
              "  </tbody>\n",
              "</table>\n",
              "</div>"
            ],
            "text/plain": [
              "                    rotten_tomatoes_link  ... tomatometer_rotten_critics_count\n",
              "0                              m/0814255  ...                               76\n",
              "1                              m/0878835  ...                               19\n",
              "2                                   m/10  ...                                8\n",
              "3                 m/1000013-12_angry_men  ...                                0\n",
              "4  m/1000079-20000_leagues_under_the_sea  ...                                3\n",
              "\n",
              "[5 rows x 22 columns]"
            ]
          },
          "metadata": {},
          "execution_count": 2
        }
      ]
    },
    {
      "cell_type": "code",
      "metadata": {
        "id": "g5sD7r8mkPFI",
        "colab": {
          "base_uri": "https://localhost:8080/",
          "height": 518
        },
        "outputId": "990ddc9d-379f-450a-b286-07db3ee81b75"
      },
      "source": [
        "print(df2.shape)\n",
        "df2"
      ],
      "execution_count": 3,
      "outputs": [
        {
          "output_type": "stream",
          "name": "stdout",
          "text": [
            "(132549, 9)\n"
          ]
        },
        {
          "output_type": "execute_result",
          "data": {
            "text/html": [
              "<div>\n",
              "<style scoped>\n",
              "    .dataframe tbody tr th:only-of-type {\n",
              "        vertical-align: middle;\n",
              "    }\n",
              "\n",
              "    .dataframe tbody tr th {\n",
              "        vertical-align: top;\n",
              "    }\n",
              "\n",
              "    .dataframe thead th {\n",
              "        text-align: right;\n",
              "    }\n",
              "</style>\n",
              "<table border=\"1\" class=\"dataframe\">\n",
              "  <thead>\n",
              "    <tr style=\"text-align: right;\">\n",
              "      <th></th>\n",
              "      <th>Unnamed: 0</th>\n",
              "      <th>rotten_tomatoes_link</th>\n",
              "      <th>critic_name</th>\n",
              "      <th>top_critic</th>\n",
              "      <th>publisher_name</th>\n",
              "      <th>review_type</th>\n",
              "      <th>review_score</th>\n",
              "      <th>review_date</th>\n",
              "      <th>review_content</th>\n",
              "    </tr>\n",
              "  </thead>\n",
              "  <tbody>\n",
              "    <tr>\n",
              "      <th>0</th>\n",
              "      <td>0</td>\n",
              "      <td>m/0814255</td>\n",
              "      <td>Andrew L. Urban</td>\n",
              "      <td>False</td>\n",
              "      <td>Urban Cinefile</td>\n",
              "      <td>Fresh</td>\n",
              "      <td>NaN</td>\n",
              "      <td>2010-02-06</td>\n",
              "      <td>A fantasy adventure that fuses Greek mythology...</td>\n",
              "    </tr>\n",
              "    <tr>\n",
              "      <th>1</th>\n",
              "      <td>1</td>\n",
              "      <td>m/0814255</td>\n",
              "      <td>Louise Keller</td>\n",
              "      <td>False</td>\n",
              "      <td>Urban Cinefile</td>\n",
              "      <td>Fresh</td>\n",
              "      <td>NaN</td>\n",
              "      <td>2010-02-06</td>\n",
              "      <td>Uma Thurman as Medusa, the gorgon with a coiff...</td>\n",
              "    </tr>\n",
              "    <tr>\n",
              "      <th>2</th>\n",
              "      <td>2</td>\n",
              "      <td>m/0814255</td>\n",
              "      <td>NaN</td>\n",
              "      <td>False</td>\n",
              "      <td>FILMINK (Australia)</td>\n",
              "      <td>Fresh</td>\n",
              "      <td>NaN</td>\n",
              "      <td>2010-02-09</td>\n",
              "      <td>With a top-notch cast and dazzling special eff...</td>\n",
              "    </tr>\n",
              "    <tr>\n",
              "      <th>3</th>\n",
              "      <td>3</td>\n",
              "      <td>m/0814255</td>\n",
              "      <td>Ben McEachen</td>\n",
              "      <td>False</td>\n",
              "      <td>Sunday Mail (Australia)</td>\n",
              "      <td>Fresh</td>\n",
              "      <td>3.5/5</td>\n",
              "      <td>2010-02-09</td>\n",
              "      <td>Whether audiences will get behind The Lightnin...</td>\n",
              "    </tr>\n",
              "    <tr>\n",
              "      <th>4</th>\n",
              "      <td>4</td>\n",
              "      <td>m/0814255</td>\n",
              "      <td>Ethan Alter</td>\n",
              "      <td>True</td>\n",
              "      <td>Hollywood Reporter</td>\n",
              "      <td>Rotten</td>\n",
              "      <td>NaN</td>\n",
              "      <td>2010-02-10</td>\n",
              "      <td>What's really lacking in The Lightning Thief i...</td>\n",
              "    </tr>\n",
              "    <tr>\n",
              "      <th>...</th>\n",
              "      <td>...</td>\n",
              "      <td>...</td>\n",
              "      <td>...</td>\n",
              "      <td>...</td>\n",
              "      <td>...</td>\n",
              "      <td>...</td>\n",
              "      <td>...</td>\n",
              "      <td>...</td>\n",
              "      <td>...</td>\n",
              "    </tr>\n",
              "    <tr>\n",
              "      <th>132544</th>\n",
              "      <td>132544</td>\n",
              "      <td>m/an_education</td>\n",
              "      <td>Sara Michelle Fetters</td>\n",
              "      <td>False</td>\n",
              "      <td>MovieFreak.com</td>\n",
              "      <td>Fresh</td>\n",
              "      <td>4/4</td>\n",
              "      <td>2009-10-16</td>\n",
              "      <td>I laughed and I cried, and while saying those ...</td>\n",
              "    </tr>\n",
              "    <tr>\n",
              "      <th>132545</th>\n",
              "      <td>132545</td>\n",
              "      <td>m/an_education</td>\n",
              "      <td>Mick LaSalle</td>\n",
              "      <td>True</td>\n",
              "      <td>San Francisco Chronicle</td>\n",
              "      <td>Fresh</td>\n",
              "      <td>4/4</td>\n",
              "      <td>2009-10-16</td>\n",
              "      <td>Hornby's humane and humorous screenplay is tru...</td>\n",
              "    </tr>\n",
              "    <tr>\n",
              "      <th>132546</th>\n",
              "      <td>132546</td>\n",
              "      <td>m/an_education</td>\n",
              "      <td>Andrew L. Urban</td>\n",
              "      <td>False</td>\n",
              "      <td>Urban Cinefile</td>\n",
              "      <td>Fresh</td>\n",
              "      <td>NaN</td>\n",
              "      <td>2009-10-17</td>\n",
              "      <td>Sheer joy of an intelligent, grown up film</td>\n",
              "    </tr>\n",
              "    <tr>\n",
              "      <th>132547</th>\n",
              "      <td>132547</td>\n",
              "      <td>m/an_education</td>\n",
              "      <td>Louise Keller</td>\n",
              "      <td>False</td>\n",
              "      <td>Urban Cinefile</td>\n",
              "      <td>Fresh</td>\n",
              "      <td>NaN</td>\n",
              "      <td>2009-10-17</td>\n",
              "      <td>An irresistible tale of seduction in which inn...</td>\n",
              "    </tr>\n",
              "    <tr>\n",
              "      <th>132548</th>\n",
              "      <td>132548</td>\n",
              "      <td>m/an_education</td>\n",
              "      <td>Zach Gibson</td>\n",
              "      <td>False</td>\n",
              "      <td>Empire Magazine Australasia</td>\n",
              "      <td>Fresh</td>\n",
              "      <td>4/5</td>\n",
              "      <td>2009-10-18</td>\n",
              "      <td>An adult focus upon a questionable pairing sid...</td>\n",
              "    </tr>\n",
              "  </tbody>\n",
              "</table>\n",
              "<p>132549 rows × 9 columns</p>\n",
              "</div>"
            ],
            "text/plain": [
              "        Unnamed: 0  ...                                     review_content\n",
              "0                0  ...  A fantasy adventure that fuses Greek mythology...\n",
              "1                1  ...  Uma Thurman as Medusa, the gorgon with a coiff...\n",
              "2                2  ...  With a top-notch cast and dazzling special eff...\n",
              "3                3  ...  Whether audiences will get behind The Lightnin...\n",
              "4                4  ...  What's really lacking in The Lightning Thief i...\n",
              "...            ...  ...                                                ...\n",
              "132544      132544  ...  I laughed and I cried, and while saying those ...\n",
              "132545      132545  ...  Hornby's humane and humorous screenplay is tru...\n",
              "132546      132546  ...         Sheer joy of an intelligent, grown up film\n",
              "132547      132547  ...  An irresistible tale of seduction in which inn...\n",
              "132548      132548  ...  An adult focus upon a questionable pairing sid...\n",
              "\n",
              "[132549 rows x 9 columns]"
            ]
          },
          "metadata": {},
          "execution_count": 3
        }
      ]
    },
    {
      "cell_type": "code",
      "metadata": {
        "id": "NivR1ApAoRv2",
        "colab": {
          "base_uri": "https://localhost:8080/",
          "height": 762
        },
        "outputId": "6e3c6c62-b32f-4702-a320-c6613b585719"
      },
      "source": [
        "df = pd.merge(df1, df2, how='left')\n",
        "print(df.shape)\n",
        "df.head()"
      ],
      "execution_count": 4,
      "outputs": [
        {
          "output_type": "stream",
          "name": "stdout",
          "text": [
            "(147541, 30)\n"
          ]
        },
        {
          "output_type": "execute_result",
          "data": {
            "text/html": [
              "<div>\n",
              "<style scoped>\n",
              "    .dataframe tbody tr th:only-of-type {\n",
              "        vertical-align: middle;\n",
              "    }\n",
              "\n",
              "    .dataframe tbody tr th {\n",
              "        vertical-align: top;\n",
              "    }\n",
              "\n",
              "    .dataframe thead th {\n",
              "        text-align: right;\n",
              "    }\n",
              "</style>\n",
              "<table border=\"1\" class=\"dataframe\">\n",
              "  <thead>\n",
              "    <tr style=\"text-align: right;\">\n",
              "      <th></th>\n",
              "      <th>rotten_tomatoes_link</th>\n",
              "      <th>movie_title</th>\n",
              "      <th>movie_info</th>\n",
              "      <th>critics_consensus</th>\n",
              "      <th>content_rating</th>\n",
              "      <th>genres</th>\n",
              "      <th>directors</th>\n",
              "      <th>authors</th>\n",
              "      <th>actors</th>\n",
              "      <th>original_release_date</th>\n",
              "      <th>streaming_release_date</th>\n",
              "      <th>runtime</th>\n",
              "      <th>production_company</th>\n",
              "      <th>tomatometer_status</th>\n",
              "      <th>tomatometer_rating</th>\n",
              "      <th>tomatometer_count</th>\n",
              "      <th>audience_status</th>\n",
              "      <th>audience_rating</th>\n",
              "      <th>audience_count</th>\n",
              "      <th>tomatometer_top_critics_count</th>\n",
              "      <th>tomatometer_fresh_critics_count</th>\n",
              "      <th>tomatometer_rotten_critics_count</th>\n",
              "      <th>Unnamed: 0</th>\n",
              "      <th>critic_name</th>\n",
              "      <th>top_critic</th>\n",
              "      <th>publisher_name</th>\n",
              "      <th>review_type</th>\n",
              "      <th>review_score</th>\n",
              "      <th>review_date</th>\n",
              "      <th>review_content</th>\n",
              "    </tr>\n",
              "  </thead>\n",
              "  <tbody>\n",
              "    <tr>\n",
              "      <th>0</th>\n",
              "      <td>m/0814255</td>\n",
              "      <td>Percy Jackson &amp; the Olympians: The Lightning T...</td>\n",
              "      <td>Always trouble-prone, the life of teenager Per...</td>\n",
              "      <td>Though it may seem like just another Harry Pot...</td>\n",
              "      <td>PG</td>\n",
              "      <td>Action &amp; Adventure, Comedy, Drama, Science Fic...</td>\n",
              "      <td>Chris Columbus</td>\n",
              "      <td>Craig Titley, Chris Columbus, Rick Riordan</td>\n",
              "      <td>Logan Lerman, Brandon T. Jackson, Alexandra Da...</td>\n",
              "      <td>2010-02-12</td>\n",
              "      <td>2015-11-25</td>\n",
              "      <td>119.0</td>\n",
              "      <td>20th Century Fox</td>\n",
              "      <td>Rotten</td>\n",
              "      <td>49.0</td>\n",
              "      <td>149.0</td>\n",
              "      <td>Spilled</td>\n",
              "      <td>53.0</td>\n",
              "      <td>254421.0</td>\n",
              "      <td>43</td>\n",
              "      <td>73</td>\n",
              "      <td>76</td>\n",
              "      <td>0.0</td>\n",
              "      <td>Andrew L. Urban</td>\n",
              "      <td>False</td>\n",
              "      <td>Urban Cinefile</td>\n",
              "      <td>Fresh</td>\n",
              "      <td>NaN</td>\n",
              "      <td>2010-02-06</td>\n",
              "      <td>A fantasy adventure that fuses Greek mythology...</td>\n",
              "    </tr>\n",
              "    <tr>\n",
              "      <th>1</th>\n",
              "      <td>m/0814255</td>\n",
              "      <td>Percy Jackson &amp; the Olympians: The Lightning T...</td>\n",
              "      <td>Always trouble-prone, the life of teenager Per...</td>\n",
              "      <td>Though it may seem like just another Harry Pot...</td>\n",
              "      <td>PG</td>\n",
              "      <td>Action &amp; Adventure, Comedy, Drama, Science Fic...</td>\n",
              "      <td>Chris Columbus</td>\n",
              "      <td>Craig Titley, Chris Columbus, Rick Riordan</td>\n",
              "      <td>Logan Lerman, Brandon T. Jackson, Alexandra Da...</td>\n",
              "      <td>2010-02-12</td>\n",
              "      <td>2015-11-25</td>\n",
              "      <td>119.0</td>\n",
              "      <td>20th Century Fox</td>\n",
              "      <td>Rotten</td>\n",
              "      <td>49.0</td>\n",
              "      <td>149.0</td>\n",
              "      <td>Spilled</td>\n",
              "      <td>53.0</td>\n",
              "      <td>254421.0</td>\n",
              "      <td>43</td>\n",
              "      <td>73</td>\n",
              "      <td>76</td>\n",
              "      <td>1.0</td>\n",
              "      <td>Louise Keller</td>\n",
              "      <td>False</td>\n",
              "      <td>Urban Cinefile</td>\n",
              "      <td>Fresh</td>\n",
              "      <td>NaN</td>\n",
              "      <td>2010-02-06</td>\n",
              "      <td>Uma Thurman as Medusa, the gorgon with a coiff...</td>\n",
              "    </tr>\n",
              "    <tr>\n",
              "      <th>2</th>\n",
              "      <td>m/0814255</td>\n",
              "      <td>Percy Jackson &amp; the Olympians: The Lightning T...</td>\n",
              "      <td>Always trouble-prone, the life of teenager Per...</td>\n",
              "      <td>Though it may seem like just another Harry Pot...</td>\n",
              "      <td>PG</td>\n",
              "      <td>Action &amp; Adventure, Comedy, Drama, Science Fic...</td>\n",
              "      <td>Chris Columbus</td>\n",
              "      <td>Craig Titley, Chris Columbus, Rick Riordan</td>\n",
              "      <td>Logan Lerman, Brandon T. Jackson, Alexandra Da...</td>\n",
              "      <td>2010-02-12</td>\n",
              "      <td>2015-11-25</td>\n",
              "      <td>119.0</td>\n",
              "      <td>20th Century Fox</td>\n",
              "      <td>Rotten</td>\n",
              "      <td>49.0</td>\n",
              "      <td>149.0</td>\n",
              "      <td>Spilled</td>\n",
              "      <td>53.0</td>\n",
              "      <td>254421.0</td>\n",
              "      <td>43</td>\n",
              "      <td>73</td>\n",
              "      <td>76</td>\n",
              "      <td>2.0</td>\n",
              "      <td>NaN</td>\n",
              "      <td>False</td>\n",
              "      <td>FILMINK (Australia)</td>\n",
              "      <td>Fresh</td>\n",
              "      <td>NaN</td>\n",
              "      <td>2010-02-09</td>\n",
              "      <td>With a top-notch cast and dazzling special eff...</td>\n",
              "    </tr>\n",
              "    <tr>\n",
              "      <th>3</th>\n",
              "      <td>m/0814255</td>\n",
              "      <td>Percy Jackson &amp; the Olympians: The Lightning T...</td>\n",
              "      <td>Always trouble-prone, the life of teenager Per...</td>\n",
              "      <td>Though it may seem like just another Harry Pot...</td>\n",
              "      <td>PG</td>\n",
              "      <td>Action &amp; Adventure, Comedy, Drama, Science Fic...</td>\n",
              "      <td>Chris Columbus</td>\n",
              "      <td>Craig Titley, Chris Columbus, Rick Riordan</td>\n",
              "      <td>Logan Lerman, Brandon T. Jackson, Alexandra Da...</td>\n",
              "      <td>2010-02-12</td>\n",
              "      <td>2015-11-25</td>\n",
              "      <td>119.0</td>\n",
              "      <td>20th Century Fox</td>\n",
              "      <td>Rotten</td>\n",
              "      <td>49.0</td>\n",
              "      <td>149.0</td>\n",
              "      <td>Spilled</td>\n",
              "      <td>53.0</td>\n",
              "      <td>254421.0</td>\n",
              "      <td>43</td>\n",
              "      <td>73</td>\n",
              "      <td>76</td>\n",
              "      <td>3.0</td>\n",
              "      <td>Ben McEachen</td>\n",
              "      <td>False</td>\n",
              "      <td>Sunday Mail (Australia)</td>\n",
              "      <td>Fresh</td>\n",
              "      <td>3.5/5</td>\n",
              "      <td>2010-02-09</td>\n",
              "      <td>Whether audiences will get behind The Lightnin...</td>\n",
              "    </tr>\n",
              "    <tr>\n",
              "      <th>4</th>\n",
              "      <td>m/0814255</td>\n",
              "      <td>Percy Jackson &amp; the Olympians: The Lightning T...</td>\n",
              "      <td>Always trouble-prone, the life of teenager Per...</td>\n",
              "      <td>Though it may seem like just another Harry Pot...</td>\n",
              "      <td>PG</td>\n",
              "      <td>Action &amp; Adventure, Comedy, Drama, Science Fic...</td>\n",
              "      <td>Chris Columbus</td>\n",
              "      <td>Craig Titley, Chris Columbus, Rick Riordan</td>\n",
              "      <td>Logan Lerman, Brandon T. Jackson, Alexandra Da...</td>\n",
              "      <td>2010-02-12</td>\n",
              "      <td>2015-11-25</td>\n",
              "      <td>119.0</td>\n",
              "      <td>20th Century Fox</td>\n",
              "      <td>Rotten</td>\n",
              "      <td>49.0</td>\n",
              "      <td>149.0</td>\n",
              "      <td>Spilled</td>\n",
              "      <td>53.0</td>\n",
              "      <td>254421.0</td>\n",
              "      <td>43</td>\n",
              "      <td>73</td>\n",
              "      <td>76</td>\n",
              "      <td>4.0</td>\n",
              "      <td>Ethan Alter</td>\n",
              "      <td>True</td>\n",
              "      <td>Hollywood Reporter</td>\n",
              "      <td>Rotten</td>\n",
              "      <td>NaN</td>\n",
              "      <td>2010-02-10</td>\n",
              "      <td>What's really lacking in The Lightning Thief i...</td>\n",
              "    </tr>\n",
              "  </tbody>\n",
              "</table>\n",
              "</div>"
            ],
            "text/plain": [
              "  rotten_tomatoes_link  ...                                     review_content\n",
              "0            m/0814255  ...  A fantasy adventure that fuses Greek mythology...\n",
              "1            m/0814255  ...  Uma Thurman as Medusa, the gorgon with a coiff...\n",
              "2            m/0814255  ...  With a top-notch cast and dazzling special eff...\n",
              "3            m/0814255  ...  Whether audiences will get behind The Lightnin...\n",
              "4            m/0814255  ...  What's really lacking in The Lightning Thief i...\n",
              "\n",
              "[5 rows x 30 columns]"
            ]
          },
          "metadata": {},
          "execution_count": 4
        }
      ]
    },
    {
      "cell_type": "code",
      "metadata": {
        "id": "Om8GSrYBmDgo"
      },
      "source": [
        "# 전처리\n",
        "\n",
        "# 개봉일 기준 2000년대 영화로 필터링\n",
        "df = df[df['original_release_date'] >= '2000-01-01']\n",
        "# 필요없는 feature 제거\n",
        "df = df.drop(['critics_consensus', 'genres', 'actors', 'movie_info', 'content_rating', 'directors', 'authors', 'streaming_release_date', 'runtime', 'production_company', 'critic_name', 'top_critic', 'publisher_name', 'review_date'], axis = 1)"
      ],
      "execution_count": 5,
      "outputs": []
    },
    {
      "cell_type": "code",
      "metadata": {
        "id": "Q8n1e9oiuaUA"
      },
      "source": [
        "df = df.drop('Unnamed: 0', axis=1)"
      ],
      "execution_count": 6,
      "outputs": []
    },
    {
      "cell_type": "code",
      "metadata": {
        "id": "5S2sJfGXU9f4",
        "colab": {
          "base_uri": "https://localhost:8080/",
          "height": 511
        },
        "outputId": "470d92ae-a6df-4e2d-8208-935395202cf9"
      },
      "source": [
        "pd.DataFrame(df.isnull( ).sum(), columns=['결측치 수'])"
      ],
      "execution_count": 7,
      "outputs": [
        {
          "output_type": "execute_result",
          "data": {
            "text/html": [
              "<div>\n",
              "<style scoped>\n",
              "    .dataframe tbody tr th:only-of-type {\n",
              "        vertical-align: middle;\n",
              "    }\n",
              "\n",
              "    .dataframe tbody tr th {\n",
              "        vertical-align: top;\n",
              "    }\n",
              "\n",
              "    .dataframe thead th {\n",
              "        text-align: right;\n",
              "    }\n",
              "</style>\n",
              "<table border=\"1\" class=\"dataframe\">\n",
              "  <thead>\n",
              "    <tr style=\"text-align: right;\">\n",
              "      <th></th>\n",
              "      <th>결측치 수</th>\n",
              "    </tr>\n",
              "  </thead>\n",
              "  <tbody>\n",
              "    <tr>\n",
              "      <th>rotten_tomatoes_link</th>\n",
              "      <td>0</td>\n",
              "    </tr>\n",
              "    <tr>\n",
              "      <th>movie_title</th>\n",
              "      <td>0</td>\n",
              "    </tr>\n",
              "    <tr>\n",
              "      <th>original_release_date</th>\n",
              "      <td>0</td>\n",
              "    </tr>\n",
              "    <tr>\n",
              "      <th>tomatometer_status</th>\n",
              "      <td>40</td>\n",
              "    </tr>\n",
              "    <tr>\n",
              "      <th>tomatometer_rating</th>\n",
              "      <td>40</td>\n",
              "    </tr>\n",
              "    <tr>\n",
              "      <th>tomatometer_count</th>\n",
              "      <td>40</td>\n",
              "    </tr>\n",
              "    <tr>\n",
              "      <th>audience_status</th>\n",
              "      <td>2030</td>\n",
              "    </tr>\n",
              "    <tr>\n",
              "      <th>audience_rating</th>\n",
              "      <td>271</td>\n",
              "    </tr>\n",
              "    <tr>\n",
              "      <th>audience_count</th>\n",
              "      <td>272</td>\n",
              "    </tr>\n",
              "    <tr>\n",
              "      <th>tomatometer_top_critics_count</th>\n",
              "      <td>0</td>\n",
              "    </tr>\n",
              "    <tr>\n",
              "      <th>tomatometer_fresh_critics_count</th>\n",
              "      <td>0</td>\n",
              "    </tr>\n",
              "    <tr>\n",
              "      <th>tomatometer_rotten_critics_count</th>\n",
              "      <td>0</td>\n",
              "    </tr>\n",
              "    <tr>\n",
              "      <th>review_type</th>\n",
              "      <td>9419</td>\n",
              "    </tr>\n",
              "    <tr>\n",
              "      <th>review_score</th>\n",
              "      <td>34917</td>\n",
              "    </tr>\n",
              "    <tr>\n",
              "      <th>review_content</th>\n",
              "      <td>12893</td>\n",
              "    </tr>\n",
              "  </tbody>\n",
              "</table>\n",
              "</div>"
            ],
            "text/plain": [
              "                                  결측치 수\n",
              "rotten_tomatoes_link                  0\n",
              "movie_title                           0\n",
              "original_release_date                 0\n",
              "tomatometer_status                   40\n",
              "tomatometer_rating                   40\n",
              "tomatometer_count                    40\n",
              "audience_status                    2030\n",
              "audience_rating                     271\n",
              "audience_count                      272\n",
              "tomatometer_top_critics_count         0\n",
              "tomatometer_fresh_critics_count       0\n",
              "tomatometer_rotten_critics_count      0\n",
              "review_type                        9419\n",
              "review_score                      34917\n",
              "review_content                    12893"
            ]
          },
          "metadata": {},
          "execution_count": 7
        }
      ]
    },
    {
      "cell_type": "code",
      "metadata": {
        "id": "TL_RRmXOTqmp"
      },
      "source": [
        "df.dropna(inplace=True)"
      ],
      "execution_count": 8,
      "outputs": []
    },
    {
      "cell_type": "code",
      "metadata": {
        "id": "X52kBIFSFNqz"
      },
      "source": [
        "df.reset_index(inplace=True)"
      ],
      "execution_count": 9,
      "outputs": []
    },
    {
      "cell_type": "code",
      "metadata": {
        "id": "AQ3aGK3ROdCh"
      },
      "source": [
        "df.drop(['index'], axis=1, inplace=True)"
      ],
      "execution_count": 10,
      "outputs": []
    },
    {
      "cell_type": "code",
      "metadata": {
        "colab": {
          "base_uri": "https://localhost:8080/",
          "height": 1000
        },
        "id": "2FdP0lRoFXDm",
        "outputId": "0003bdc2-a073-444c-bb10-6b4283159e79"
      },
      "source": [
        "df"
      ],
      "execution_count": 11,
      "outputs": [
        {
          "output_type": "execute_result",
          "data": {
            "text/html": [
              "<div>\n",
              "<style scoped>\n",
              "    .dataframe tbody tr th:only-of-type {\n",
              "        vertical-align: middle;\n",
              "    }\n",
              "\n",
              "    .dataframe tbody tr th {\n",
              "        vertical-align: top;\n",
              "    }\n",
              "\n",
              "    .dataframe thead th {\n",
              "        text-align: right;\n",
              "    }\n",
              "</style>\n",
              "<table border=\"1\" class=\"dataframe\">\n",
              "  <thead>\n",
              "    <tr style=\"text-align: right;\">\n",
              "      <th></th>\n",
              "      <th>rotten_tomatoes_link</th>\n",
              "      <th>movie_title</th>\n",
              "      <th>original_release_date</th>\n",
              "      <th>tomatometer_status</th>\n",
              "      <th>tomatometer_rating</th>\n",
              "      <th>tomatometer_count</th>\n",
              "      <th>audience_status</th>\n",
              "      <th>audience_rating</th>\n",
              "      <th>audience_count</th>\n",
              "      <th>tomatometer_top_critics_count</th>\n",
              "      <th>tomatometer_fresh_critics_count</th>\n",
              "      <th>tomatometer_rotten_critics_count</th>\n",
              "      <th>review_type</th>\n",
              "      <th>review_score</th>\n",
              "      <th>review_content</th>\n",
              "    </tr>\n",
              "  </thead>\n",
              "  <tbody>\n",
              "    <tr>\n",
              "      <th>0</th>\n",
              "      <td>m/0814255</td>\n",
              "      <td>Percy Jackson &amp; the Olympians: The Lightning T...</td>\n",
              "      <td>2010-02-12</td>\n",
              "      <td>Rotten</td>\n",
              "      <td>49.0</td>\n",
              "      <td>149.0</td>\n",
              "      <td>Spilled</td>\n",
              "      <td>53.0</td>\n",
              "      <td>254421.0</td>\n",
              "      <td>43</td>\n",
              "      <td>73</td>\n",
              "      <td>76</td>\n",
              "      <td>Fresh</td>\n",
              "      <td>3.5/5</td>\n",
              "      <td>Whether audiences will get behind The Lightnin...</td>\n",
              "    </tr>\n",
              "    <tr>\n",
              "      <th>1</th>\n",
              "      <td>m/0814255</td>\n",
              "      <td>Percy Jackson &amp; the Olympians: The Lightning T...</td>\n",
              "      <td>2010-02-12</td>\n",
              "      <td>Rotten</td>\n",
              "      <td>49.0</td>\n",
              "      <td>149.0</td>\n",
              "      <td>Spilled</td>\n",
              "      <td>53.0</td>\n",
              "      <td>254421.0</td>\n",
              "      <td>43</td>\n",
              "      <td>73</td>\n",
              "      <td>76</td>\n",
              "      <td>Rotten</td>\n",
              "      <td>1/4</td>\n",
              "      <td>Harry Potter knockoffs don't come more transpa...</td>\n",
              "    </tr>\n",
              "    <tr>\n",
              "      <th>2</th>\n",
              "      <td>m/0814255</td>\n",
              "      <td>Percy Jackson &amp; the Olympians: The Lightning T...</td>\n",
              "      <td>2010-02-12</td>\n",
              "      <td>Rotten</td>\n",
              "      <td>49.0</td>\n",
              "      <td>149.0</td>\n",
              "      <td>Spilled</td>\n",
              "      <td>53.0</td>\n",
              "      <td>254421.0</td>\n",
              "      <td>43</td>\n",
              "      <td>73</td>\n",
              "      <td>76</td>\n",
              "      <td>Fresh</td>\n",
              "      <td>3.5/5</td>\n",
              "      <td>Percy Jackson isn't a great movie, but it's a ...</td>\n",
              "    </tr>\n",
              "    <tr>\n",
              "      <th>3</th>\n",
              "      <td>m/0814255</td>\n",
              "      <td>Percy Jackson &amp; the Olympians: The Lightning T...</td>\n",
              "      <td>2010-02-12</td>\n",
              "      <td>Rotten</td>\n",
              "      <td>49.0</td>\n",
              "      <td>149.0</td>\n",
              "      <td>Spilled</td>\n",
              "      <td>53.0</td>\n",
              "      <td>254421.0</td>\n",
              "      <td>43</td>\n",
              "      <td>73</td>\n",
              "      <td>76</td>\n",
              "      <td>Fresh</td>\n",
              "      <td>B</td>\n",
              "      <td>Fun, brisk and imaginative</td>\n",
              "    </tr>\n",
              "    <tr>\n",
              "      <th>4</th>\n",
              "      <td>m/0814255</td>\n",
              "      <td>Percy Jackson &amp; the Olympians: The Lightning T...</td>\n",
              "      <td>2010-02-12</td>\n",
              "      <td>Rotten</td>\n",
              "      <td>49.0</td>\n",
              "      <td>149.0</td>\n",
              "      <td>Spilled</td>\n",
              "      <td>53.0</td>\n",
              "      <td>254421.0</td>\n",
              "      <td>43</td>\n",
              "      <td>73</td>\n",
              "      <td>76</td>\n",
              "      <td>Fresh</td>\n",
              "      <td>3/5</td>\n",
              "      <td>Crammed with dragons, set-destroying fights an...</td>\n",
              "    </tr>\n",
              "    <tr>\n",
              "      <th>...</th>\n",
              "      <td>...</td>\n",
              "      <td>...</td>\n",
              "      <td>...</td>\n",
              "      <td>...</td>\n",
              "      <td>...</td>\n",
              "      <td>...</td>\n",
              "      <td>...</td>\n",
              "      <td>...</td>\n",
              "      <td>...</td>\n",
              "      <td>...</td>\n",
              "      <td>...</td>\n",
              "      <td>...</td>\n",
              "      <td>...</td>\n",
              "      <td>...</td>\n",
              "      <td>...</td>\n",
              "    </tr>\n",
              "    <tr>\n",
              "      <th>68044</th>\n",
              "      <td>m/an_education</td>\n",
              "      <td>An Education</td>\n",
              "      <td>2009-10-09</td>\n",
              "      <td>Certified-Fresh</td>\n",
              "      <td>94.0</td>\n",
              "      <td>195.0</td>\n",
              "      <td>Upright</td>\n",
              "      <td>80.0</td>\n",
              "      <td>54962.0</td>\n",
              "      <td>46</td>\n",
              "      <td>183</td>\n",
              "      <td>12</td>\n",
              "      <td>Fresh</td>\n",
              "      <td>10/10</td>\n",
              "      <td>Sensitively directed by Lone Sherfig, with ter...</td>\n",
              "    </tr>\n",
              "    <tr>\n",
              "      <th>68045</th>\n",
              "      <td>m/an_education</td>\n",
              "      <td>An Education</td>\n",
              "      <td>2009-10-09</td>\n",
              "      <td>Certified-Fresh</td>\n",
              "      <td>94.0</td>\n",
              "      <td>195.0</td>\n",
              "      <td>Upright</td>\n",
              "      <td>80.0</td>\n",
              "      <td>54962.0</td>\n",
              "      <td>46</td>\n",
              "      <td>183</td>\n",
              "      <td>12</td>\n",
              "      <td>Fresh</td>\n",
              "      <td>3/4</td>\n",
              "      <td>A star may or may not be born in An Education,...</td>\n",
              "    </tr>\n",
              "    <tr>\n",
              "      <th>68046</th>\n",
              "      <td>m/an_education</td>\n",
              "      <td>An Education</td>\n",
              "      <td>2009-10-09</td>\n",
              "      <td>Certified-Fresh</td>\n",
              "      <td>94.0</td>\n",
              "      <td>195.0</td>\n",
              "      <td>Upright</td>\n",
              "      <td>80.0</td>\n",
              "      <td>54962.0</td>\n",
              "      <td>46</td>\n",
              "      <td>183</td>\n",
              "      <td>12</td>\n",
              "      <td>Fresh</td>\n",
              "      <td>4/4</td>\n",
              "      <td>I laughed and I cried, and while saying those ...</td>\n",
              "    </tr>\n",
              "    <tr>\n",
              "      <th>68047</th>\n",
              "      <td>m/an_education</td>\n",
              "      <td>An Education</td>\n",
              "      <td>2009-10-09</td>\n",
              "      <td>Certified-Fresh</td>\n",
              "      <td>94.0</td>\n",
              "      <td>195.0</td>\n",
              "      <td>Upright</td>\n",
              "      <td>80.0</td>\n",
              "      <td>54962.0</td>\n",
              "      <td>46</td>\n",
              "      <td>183</td>\n",
              "      <td>12</td>\n",
              "      <td>Fresh</td>\n",
              "      <td>4/4</td>\n",
              "      <td>Hornby's humane and humorous screenplay is tru...</td>\n",
              "    </tr>\n",
              "    <tr>\n",
              "      <th>68048</th>\n",
              "      <td>m/an_education</td>\n",
              "      <td>An Education</td>\n",
              "      <td>2009-10-09</td>\n",
              "      <td>Certified-Fresh</td>\n",
              "      <td>94.0</td>\n",
              "      <td>195.0</td>\n",
              "      <td>Upright</td>\n",
              "      <td>80.0</td>\n",
              "      <td>54962.0</td>\n",
              "      <td>46</td>\n",
              "      <td>183</td>\n",
              "      <td>12</td>\n",
              "      <td>Fresh</td>\n",
              "      <td>4/5</td>\n",
              "      <td>An adult focus upon a questionable pairing sid...</td>\n",
              "    </tr>\n",
              "  </tbody>\n",
              "</table>\n",
              "<p>68049 rows × 15 columns</p>\n",
              "</div>"
            ],
            "text/plain": [
              "      rotten_tomatoes_link  ...                                     review_content\n",
              "0                m/0814255  ...  Whether audiences will get behind The Lightnin...\n",
              "1                m/0814255  ...  Harry Potter knockoffs don't come more transpa...\n",
              "2                m/0814255  ...  Percy Jackson isn't a great movie, but it's a ...\n",
              "3                m/0814255  ...                         Fun, brisk and imaginative\n",
              "4                m/0814255  ...  Crammed with dragons, set-destroying fights an...\n",
              "...                    ...  ...                                                ...\n",
              "68044       m/an_education  ...  Sensitively directed by Lone Sherfig, with ter...\n",
              "68045       m/an_education  ...  A star may or may not be born in An Education,...\n",
              "68046       m/an_education  ...  I laughed and I cried, and while saying those ...\n",
              "68047       m/an_education  ...  Hornby's humane and humorous screenplay is tru...\n",
              "68048       m/an_education  ...  An adult focus upon a questionable pairing sid...\n",
              "\n",
              "[68049 rows x 15 columns]"
            ]
          },
          "metadata": {},
          "execution_count": 11
        }
      ]
    },
    {
      "cell_type": "code",
      "metadata": {
        "id": "fBfgc0KKR6gB"
      },
      "source": [
        "# 리뷰 점수 전처리\n",
        "\n",
        "def score(x):\n",
        "  if '/' in str(x):\n",
        "    return int(float(str(x).split('/')[0]) / float(str(x).split('/')[-1]) * 10)\n",
        "  elif x == \"A\" or x == 'a' or x =='A+' or x =='A-':\n",
        "    return 10\n",
        "  elif x == 'B' or x == 'b' or x == 'B+' or x == 'B-':\n",
        "    return 8\n",
        "  elif x == 'C' or x == 'c' or x == 'C+' or x == 'C-':\n",
        "    return 6\n",
        "  elif x == 'D' or x == 'd' or x == 'D+' or x == 'D+':\n",
        "    return 4\n",
        "  elif x == 'F' or x == 'f':\n",
        "    return 2\n",
        "  else:\n",
        "    return 0\n",
        "\n",
        "df['review_score'] = df['review_score'].apply(score)\n",
        "# 리뷰 점수가 10이 넘는 값들 제거\n",
        "df.drop(df[df['review_score'] > 10].index, axis='index', inplace=True)"
      ],
      "execution_count": 12,
      "outputs": []
    },
    {
      "cell_type": "code",
      "metadata": {
        "colab": {
          "base_uri": "https://localhost:8080/",
          "height": 286
        },
        "id": "r4Oi9WqaolR-",
        "outputId": "a241a79f-0db9-4d94-f45e-8e12855252a7"
      },
      "source": [
        "pd.DataFrame(df['review_score'].value_counts(normalize=True)).sort_index().plot(kind='bar')"
      ],
      "execution_count": 13,
      "outputs": [
        {
          "output_type": "execute_result",
          "data": {
            "text/plain": [
              "<matplotlib.axes._subplots.AxesSubplot at 0x7f1df710fb50>"
            ]
          },
          "metadata": {},
          "execution_count": 13
        },
        {
          "output_type": "display_data",
          "data": {
            "image/png": "[encoded data removed]",
            "text/plain": [
              "<Figure size 432x288 with 1 Axes>"
            ]
          },
          "metadata": {
            "needs_background": "light"
          }
        }
      ]
    },
    {
      "cell_type": "code",
      "metadata": {
        "colab": {
          "base_uri": "https://localhost:8080/",
          "height": 346
        },
        "id": "rlyHU6x4_OFy",
        "outputId": "bbb5fb13-4fb8-4bf4-a449-b4041f888c9b"
      },
      "source": [
        "pd.DataFrame(df['tomatometer_status'].value_counts(normalize=True)).plot(kind='bar')"
      ],
      "execution_count": 14,
      "outputs": [
        {
          "output_type": "execute_result",
          "data": {
            "text/plain": [
              "<matplotlib.axes._subplots.AxesSubplot at 0x7f1df0e1cb10>"
            ]
          },
          "metadata": {},
          "execution_count": 14
        },
        {
          "output_type": "display_data",
          "data": {
            "image/png": "[encoded data removed]",
            "text/plain": [
              "<Figure size 432x288 with 1 Axes>"
            ]
          },
          "metadata": {
            "needs_background": "light"
          }
        }
      ]
    },
    {
      "cell_type": "code",
      "metadata": {
        "id": "lHnoYnH0CvMY"
      },
      "source": [
        "# 토마토미터 전처리\n",
        "def tomato(x):\n",
        "  if x == 'Certified-Fresh':\n",
        "    return 2\n",
        "  elif x == 'Fresh':\n",
        "    return 1\n",
        "  else:\n",
        "    return 0\n",
        "\n",
        "df['tomatometer_status'] = df['tomatometer_status'].apply(tomato)"
      ],
      "execution_count": 15,
      "outputs": []
    },
    {
      "cell_type": "code",
      "metadata": {
        "id": "JjwlST9_R34m"
      },
      "source": [
        "# 리뷰 내용을 토큰화\n",
        "import re\n",
        "\n",
        "def tokenize(text):\n",
        "    tokens = re.sub(r\"[^a-zA-Z0-9 ]\", \"\", text)\n",
        "\n",
        "    tokens = tokens.lower().split()\n",
        "    \n",
        "    return tokens"
      ],
      "execution_count": 16,
      "outputs": []
    },
    {
      "cell_type": "code",
      "metadata": {
        "id": "duw78bg9eDIN"
      },
      "source": [
        "df['token'] = df['review_content'].apply(tokenize)"
      ],
      "execution_count": 17,
      "outputs": []
    },
    {
      "cell_type": "code",
      "metadata": {
        "id": "coD2ikKJePP1"
      },
      "source": [
        "# 불용어를 제거\n",
        "\n",
        "import spacy\n",
        "from spacy.tokenizer import Tokenizer\n",
        "\n",
        "nlp = spacy.load(\"en_core_web_sm\")\n",
        "STOP_WORDS = nlp.Defaults.stop_words.union(['the', 'a', 'and', 'of', 'to', 'is', 'in', 'its', 'it', 'that', \"it's\", \"there's\", \"that's\"])\n",
        "tokenizer = Tokenizer(nlp.vocab)\n",
        "\n",
        "tokens = []\n",
        "\n",
        "for doc in tokenizer.pipe(df['review_content']):\n",
        "    doc_tokens = []\n",
        "\n",
        "    for token in doc:\n",
        "        if (token.is_stop == False) & (token.is_punct == False) & (token.text.lower() not in STOP_WORDS):\n",
        "            doc_tokens.append(token.text.lower())\n",
        "\n",
        "    tokens.append(doc_tokens)\n",
        "\n",
        "df['token'] = tokens"
      ],
      "execution_count": 18,
      "outputs": []
    },
    {
      "cell_type": "code",
      "metadata": {
        "id": "CzSK7pc8gmq9"
      },
      "source": [
        "from collections import Counter\n",
        "\n",
        "def word_count(docs):\n",
        "    \n",
        "    word_counts = Counter()\n",
        "\n",
        "    word_in_docs = Counter()\n",
        "\n",
        "    total_docs = len(docs)\n",
        "\n",
        "    word_counts.update(docs)\n",
        "    word_in_docs.update(set(docs))\n",
        "\n",
        "    temp = zip(word_counts.keys(), word_counts.values())\n",
        "\n",
        "    wc = pd.DataFrame(temp, columns = ['word', 'count'])\n",
        "\n",
        "    wc['rank'] = wc['count'].rank(method='first', ascending=False)\n",
        "    total = wc['count'].sum()\n",
        "\n",
        "    return list(wc.sort_values(by='rank')['word'][:5])"
      ],
      "execution_count": 19,
      "outputs": []
    },
    {
      "cell_type": "code",
      "metadata": {
        "id": "Bp1jTCBkE1q-"
      },
      "source": [
        "df['word'] = df['token'].apply(word_count)"
      ],
      "execution_count": 20,
      "outputs": []
    },
    {
      "cell_type": "code",
      "metadata": {
        "id": "wFIJJ8UIUrJj",
        "colab": {
          "base_uri": "https://localhost:8080/",
          "height": 380
        },
        "outputId": "dac89d90-6018-47e2-c873-5f6e7a29a4f3"
      },
      "source": [
        "df.head(3)"
      ],
      "execution_count": 21,
      "outputs": [
        {
          "output_type": "execute_result",
          "data": {
            "text/html": [
              "<div>\n",
              "<style scoped>\n",
              "    .dataframe tbody tr th:only-of-type {\n",
              "        vertical-align: middle;\n",
              "    }\n",
              "\n",
              "    .dataframe tbody tr th {\n",
              "        vertical-align: top;\n",
              "    }\n",
              "\n",
              "    .dataframe thead th {\n",
              "        text-align: right;\n",
              "    }\n",
              "</style>\n",
              "<table border=\"1\" class=\"dataframe\">\n",
              "  <thead>\n",
              "    <tr style=\"text-align: right;\">\n",
              "      <th></th>\n",
              "      <th>rotten_tomatoes_link</th>\n",
              "      <th>movie_title</th>\n",
              "      <th>original_release_date</th>\n",
              "      <th>tomatometer_status</th>\n",
              "      <th>tomatometer_rating</th>\n",
              "      <th>tomatometer_count</th>\n",
              "      <th>audience_status</th>\n",
              "      <th>audience_rating</th>\n",
              "      <th>audience_count</th>\n",
              "      <th>tomatometer_top_critics_count</th>\n",
              "      <th>tomatometer_fresh_critics_count</th>\n",
              "      <th>tomatometer_rotten_critics_count</th>\n",
              "      <th>review_type</th>\n",
              "      <th>review_score</th>\n",
              "      <th>review_content</th>\n",
              "      <th>token</th>\n",
              "      <th>word</th>\n",
              "    </tr>\n",
              "  </thead>\n",
              "  <tbody>\n",
              "    <tr>\n",
              "      <th>0</th>\n",
              "      <td>m/0814255</td>\n",
              "      <td>Percy Jackson &amp; the Olympians: The Lightning T...</td>\n",
              "      <td>2010-02-12</td>\n",
              "      <td>0</td>\n",
              "      <td>49.0</td>\n",
              "      <td>149.0</td>\n",
              "      <td>Spilled</td>\n",
              "      <td>53.0</td>\n",
              "      <td>254421.0</td>\n",
              "      <td>43</td>\n",
              "      <td>73</td>\n",
              "      <td>76</td>\n",
              "      <td>Fresh</td>\n",
              "      <td>7</td>\n",
              "      <td>Whether audiences will get behind The Lightnin...</td>\n",
              "      <td>[audiences, lightning, thief, hard, predict., ...</td>\n",
              "      <td>[audiences, lightning, thief, hard, predict.]</td>\n",
              "    </tr>\n",
              "    <tr>\n",
              "      <th>1</th>\n",
              "      <td>m/0814255</td>\n",
              "      <td>Percy Jackson &amp; the Olympians: The Lightning T...</td>\n",
              "      <td>2010-02-12</td>\n",
              "      <td>0</td>\n",
              "      <td>49.0</td>\n",
              "      <td>149.0</td>\n",
              "      <td>Spilled</td>\n",
              "      <td>53.0</td>\n",
              "      <td>254421.0</td>\n",
              "      <td>43</td>\n",
              "      <td>73</td>\n",
              "      <td>76</td>\n",
              "      <td>Rotten</td>\n",
              "      <td>2</td>\n",
              "      <td>Harry Potter knockoffs don't come more transpa...</td>\n",
              "      <td>[harry, potter, knockoffs, don't, come, transp...</td>\n",
              "      <td>[harry, potter, knockoffs, don't, come]</td>\n",
              "    </tr>\n",
              "    <tr>\n",
              "      <th>2</th>\n",
              "      <td>m/0814255</td>\n",
              "      <td>Percy Jackson &amp; the Olympians: The Lightning T...</td>\n",
              "      <td>2010-02-12</td>\n",
              "      <td>0</td>\n",
              "      <td>49.0</td>\n",
              "      <td>149.0</td>\n",
              "      <td>Spilled</td>\n",
              "      <td>53.0</td>\n",
              "      <td>254421.0</td>\n",
              "      <td>43</td>\n",
              "      <td>73</td>\n",
              "      <td>76</td>\n",
              "      <td>Fresh</td>\n",
              "      <td>7</td>\n",
              "      <td>Percy Jackson isn't a great movie, but it's a ...</td>\n",
              "      <td>[percy, jackson, isn't, great, movie,, good, o...</td>\n",
              "      <td>[percy, jackson, isn't, great, movie,]</td>\n",
              "    </tr>\n",
              "  </tbody>\n",
              "</table>\n",
              "</div>"
            ],
            "text/plain": [
              "  rotten_tomatoes_link  ...                                           word\n",
              "0            m/0814255  ...  [audiences, lightning, thief, hard, predict.]\n",
              "1            m/0814255  ...        [harry, potter, knockoffs, don't, come]\n",
              "2            m/0814255  ...         [percy, jackson, isn't, great, movie,]\n",
              "\n",
              "[3 rows x 17 columns]"
            ]
          },
          "metadata": {},
          "execution_count": 21
        }
      ]
    },
    {
      "cell_type": "markdown",
      "metadata": {
        "id": "Yg-kktTgt_39"
      },
      "source": [
        "# 리뷰 점수 예측"
      ]
    },
    {
      "cell_type": "code",
      "metadata": {
        "id": "sjwyXWb1Ao2I"
      },
      "source": [
        "import numpy as np\n",
        "import tensorflow as tf\n",
        "from sklearn.model_selection import train_test_split\n",
        "from keras.preprocessing import sequence\n",
        "from keras.preprocessing.text import Tokenizer\n",
        "from keras.models import Model\n",
        "from keras.layers import LSTM, Activation, Dense, Dropout, Input, Embedding\n",
        "from keras.callbacks import EarlyStopping\n",
        "y = df['review_score']\n",
        "X = df['word']\n",
        "\n",
        "X_train, X_test, y_train, y_test = train_test_split(X, y, test_size=0.3, random_state=42)\n",
        "\n",
        "max_words = 1000\n",
        "max_len = 100\n",
        "\n",
        "tok = Tokenizer(num_words=max_words)\n",
        "tok.fit_on_texts(X_train)\n",
        "X_train_encoded = tok.texts_to_sequences(X_train)\n",
        "X_train_pad = sequence.pad_sequences(X_train_encoded,maxlen=max_len)\n",
        "\n",
        "tok.fit_on_texts(X_test)\n",
        "X_test_encoded = tok.texts_to_sequences(X_test)\n",
        "X_test_pad = sequence.pad_sequences(X_test_encoded,maxlen=max_len)"
      ],
      "execution_count": 22,
      "outputs": []
    },
    {
      "cell_type": "code",
      "metadata": {
        "id": "WL-u1XJEgV-k"
      },
      "source": [
        "def RNN():\n",
        "    inputs = Input(name='inputs',shape=[max_len])\n",
        "    layer = Embedding(max_words,50,input_length=max_len)(inputs)\n",
        "    layer = LSTM(64)(layer)\n",
        "    layer = Dense(128,name='FC1')(layer)\n",
        "    layer = Activation('relu')(layer)\n",
        "    layer = Dropout(0.2)(layer)\n",
        "    layer = Dense(11,name='out_layer')(layer)\n",
        "    layer = Activation('softmax')(layer)\n",
        "    model = Model(inputs=inputs,outputs=layer)\n",
        "    return model"
      ],
      "execution_count": 23,
      "outputs": []
    },
    {
      "cell_type": "code",
      "metadata": {
        "id": "s8TPtstESXoh"
      },
      "source": [
        "model = RNN()\n",
        "model.compile(loss='sparse_categorical_crossentropy',optimizer='adam',metrics=['accuracy'])"
      ],
      "execution_count": 24,
      "outputs": []
    },
    {
      "cell_type": "code",
      "metadata": {
        "colab": {
          "base_uri": "https://localhost:8080/"
        },
        "id": "CPoSmkhNick5",
        "outputId": "a9dbc3c1-f0b5-4d38-bd59-151e5c7b2820"
      },
      "source": [
        "model.fit(X_train_pad,y_train,batch_size=128,epochs=10,\n",
        "          validation_data=(X_test_pad,y_test), callbacks=[EarlyStopping(monitor='val_loss',min_delta=0.0001, patience=3)])"
      ],
      "execution_count": 25,
      "outputs": [
        {
          "output_type": "stream",
          "name": "stdout",
          "text": [
            "Epoch 1/10\n",
            "373/373 [==============================] - 40s 101ms/step - loss: 2.0806 - accuracy: 0.2203 - val_loss: 2.0913 - val_accuracy: 0.2225\n",
            "Epoch 2/10\n",
            "373/373 [==============================] - 37s 100ms/step - loss: 2.0041 - accuracy: 0.2551 - val_loss: 2.1430 - val_accuracy: 0.2191\n",
            "Epoch 3/10\n",
            "373/373 [==============================] - 37s 100ms/step - loss: 1.9712 - accuracy: 0.2668 - val_loss: 2.1742 - val_accuracy: 0.2161\n",
            "Epoch 4/10\n",
            "373/373 [==============================] - 37s 100ms/step - loss: 1.9586 - accuracy: 0.2708 - val_loss: 2.1657 - val_accuracy: 0.2119\n"
          ]
        },
        {
          "output_type": "execute_result",
          "data": {
            "text/plain": [
              "<keras.callbacks.History at 0x7f1d6bd14e90>"
            ]
          },
          "metadata": {},
          "execution_count": 25
        }
      ]
    },
    {
      "cell_type": "code",
      "metadata": {
        "colab": {
          "base_uri": "https://localhost:8080/"
        },
        "id": "g-j_ErWvuLsL",
        "outputId": "8d9848bb-1d41-42d3-9813-68a22ba68ec7"
      },
      "source": [
        "df['review_score'].value_counts(normalize=True).sort_index()"
      ],
      "execution_count": 26,
      "outputs": [
        {
          "output_type": "execute_result",
          "data": {
            "text/plain": [
              "0     0.011536\n",
              "1     0.008230\n",
              "2     0.058092\n",
              "3     0.050215\n",
              "4     0.095801\n",
              "5     0.112114\n",
              "6     0.224933\n",
              "7     0.147707\n",
              "8     0.213308\n",
              "9     0.019545\n",
              "10    0.058518\n",
              "Name: review_score, dtype: float64"
            ]
          },
          "metadata": {},
          "execution_count": 26
        }
      ]
    },
    {
      "cell_type": "code",
      "metadata": {
        "colab": {
          "base_uri": "https://localhost:8080/"
        },
        "id": "M2qpsO7yAafX",
        "outputId": "e24e87d7-147e-4ae3-f65e-d87dda741edf"
      },
      "source": [
        "model.evaluate(X_test_pad, y_test)"
      ],
      "execution_count": 27,
      "outputs": [
        {
          "output_type": "stream",
          "name": "stdout",
          "text": [
            "638/638 [==============================] - 9s 14ms/step - loss: 2.1657 - accuracy: 0.2119\n"
          ]
        },
        {
          "output_type": "execute_result",
          "data": {
            "text/plain": [
              "[2.165741443634033, 0.21185402572155]"
            ]
          },
          "metadata": {},
          "execution_count": 27
        }
      ]
    },
    {
      "cell_type": "markdown",
      "metadata": {
        "id": "nVWW_6mDt8Mb"
      },
      "source": [
        "# 토마토미터 예측\n"
      ]
    },
    {
      "cell_type": "code",
      "metadata": {
        "id": "mXaXnpXzts_X"
      },
      "source": [
        "y = df['tomatometer_status']\n",
        "X = df['word']\n",
        "\n",
        "X_train, X_test, y_train, y_test = train_test_split(X, y, test_size=0.3, random_state=42)\n",
        "\n",
        "max_words = 10000\n",
        "max_len = 500\n",
        "\n",
        "tok = Tokenizer(num_words=max_words)\n",
        "tok.fit_on_texts(X_train)\n",
        "X_train_encoded = tok.texts_to_sequences(X_train)\n",
        "X_train_pad = sequence.pad_sequences(X_train_encoded,maxlen=max_len)\n",
        "\n",
        "tok.fit_on_texts(X_test)\n",
        "X_test_encoded = tok.texts_to_sequences(X_test)\n",
        "X_test_pad = sequence.pad_sequences(X_test_encoded,maxlen=max_len)"
      ],
      "execution_count": 28,
      "outputs": []
    },
    {
      "cell_type": "code",
      "metadata": {
        "id": "j-8Sd7wWw0zZ"
      },
      "source": [
        "from tensorflow.keras.layers import Dense, Embedding, GlobalAveragePooling1D\n",
        "from tensorflow.keras.models import Sequential\n",
        "\n",
        "vocab_size = len(tok.word_index) + 1\n",
        "embedding_matrix = np.zeros((vocab_size,500))\n",
        "\n",
        "model = Sequential()\n",
        "model.add(Embedding(vocab_size, 500, weights=[embedding_matrix], input_length=max_len, trainable=False))\n",
        "model.add(GlobalAveragePooling1D()) \n",
        "model.add(Dense(3, activation='softmax'))"
      ],
      "execution_count": 29,
      "outputs": []
    },
    {
      "cell_type": "code",
      "metadata": {
        "id": "o_YG4uTSt6ja"
      },
      "source": [
        "model.compile(loss='sparse_categorical_crossentropy',optimizer='adam',metrics=['accuracy'])"
      ],
      "execution_count": 30,
      "outputs": []
    },
    {
      "cell_type": "code",
      "metadata": {
        "colab": {
          "base_uri": "https://localhost:8080/"
        },
        "id": "f0y25d6RuaVC",
        "outputId": "75863db5-9eb5-4c8f-e564-e1db5e6cc962"
      },
      "source": [
        "model.fit(X_train_pad, y_train, batch_size=64, epochs=5, validation_split=0.2)"
      ],
      "execution_count": 31,
      "outputs": [
        {
          "output_type": "stream",
          "name": "stdout",
          "text": [
            "Epoch 1/5\n",
            "596/596 [==============================] - 13s 22ms/step - loss: 1.0509 - accuracy: 0.4900 - val_loss: 1.0285 - val_accuracy: 0.4863\n",
            "Epoch 2/5\n",
            "596/596 [==============================] - 13s 21ms/step - loss: 1.0264 - accuracy: 0.4900 - val_loss: 1.0242 - val_accuracy: 0.4863\n",
            "Epoch 3/5\n",
            "596/596 [==============================] - 13s 21ms/step - loss: 1.0252 - accuracy: 0.4900 - val_loss: 1.0239 - val_accuracy: 0.4863\n",
            "Epoch 4/5\n",
            "596/596 [==============================] - 13s 21ms/step - loss: 1.0252 - accuracy: 0.4900 - val_loss: 1.0238 - val_accuracy: 0.4863\n",
            "Epoch 5/5\n",
            "596/596 [==============================] - 13s 21ms/step - loss: 1.0252 - accuracy: 0.4900 - val_loss: 1.0240 - val_accuracy: 0.4863\n"
          ]
        },
        {
          "output_type": "execute_result",
          "data": {
            "text/plain": [
              "<keras.callbacks.History at 0x7f1d6b979b90>"
            ]
          },
          "metadata": {},
          "execution_count": 31
        }
      ]
    },
    {
      "cell_type": "code",
      "metadata": {
        "colab": {
          "base_uri": "https://localhost:8080/"
        },
        "id": "CEijldoMuerC",
        "outputId": "7bc2a0cb-506d-4341-d031-22b25902df34"
      },
      "source": [
        "df['tomatometer_status'].value_counts(normalize=True).sort_index()"
      ],
      "execution_count": 32,
      "outputs": [
        {
          "output_type": "execute_result",
          "data": {
            "text/plain": [
              "0    0.489794\n",
              "1    0.181419\n",
              "2    0.328787\n",
              "Name: tomatometer_status, dtype: float64"
            ]
          },
          "metadata": {},
          "execution_count": 32
        }
      ]
    },
    {
      "cell_type": "code",
      "metadata": {
        "colab": {
          "base_uri": "https://localhost:8080/"
        },
        "id": "Uenw48ZP7a-S",
        "outputId": "b71fa4da-aa41-443f-c0c6-c753051a77e1"
      },
      "source": [
        "model.evaluate(X_test_pad, y_test)"
      ],
      "execution_count": 33,
      "outputs": [
        {
          "output_type": "stream",
          "name": "stdout",
          "text": [
            "638/638 [==============================] - 7s 10ms/step - loss: 1.0253 - accuracy: 0.4911\n"
          ]
        },
        {
          "output_type": "execute_result",
          "data": {
            "text/plain": [
              "[1.0252619981765747, 0.4911094903945923]"
            ]
          },
          "metadata": {},
          "execution_count": 33
        }
      ]
    }
  ]
}